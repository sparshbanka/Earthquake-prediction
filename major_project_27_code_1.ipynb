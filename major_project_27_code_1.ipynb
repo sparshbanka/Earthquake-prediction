{
 "cells": [
  {
   "cell_type": "code",
   "execution_count": 1,
   "id": "36a0421e",
   "metadata": {},
   "outputs": [],
   "source": [
    "import pandas as pd\n",
    "import numpy as np\n",
    "import matplotlib.pyplot as plt\n",
    "from sklearn.model_selection import train_test_split\n",
    "from sklearn.preprocessing import StandardScaler\n",
    "from sklearn.ensemble import RandomForestRegressor\n",
    "from sklearn.metrics import mean_squared_error, r2_score, mean_absolute_error"
   ]
  },
  {
   "cell_type": "code",
   "execution_count": 2,
   "id": "b93a2a13",
   "metadata": {},
   "outputs": [],
   "source": [
    "#Loading the dataset\n",
    "e = pd.read_csv('earthquake.csv')"
   ]
  },
  {
   "cell_type": "code",
   "execution_count": 3,
   "id": "6d4c55bf",
   "metadata": {},
   "outputs": [],
   "source": [
    "#Feature Engineering based on 'Depth'\n",
    "#Categorizing depth into Shallow, Moderate, and Deep Earthquakes\n",
    "depth_bins = [-np.inf, 50, 150, np.inf] #-np.inf denotes negative infinity and np.inf denotes positive infinity\n",
    "depth_labels = ['Shallow', 'Moderate', 'Deep']\n",
    "e['Depth_Category'] = pd.cut(e['Depth'], bins = depth_bins, labels = depth_labels) #pd.cut() is for sorting and segregating the data or 'depth' into bins and their respective labels "
   ]
  },
  {
   "cell_type": "code",
   "execution_count": 4,
   "id": "e0a30755",
   "metadata": {},
   "outputs": [],
   "source": [
    "#One-hot encoding of the depth category\n",
    "e = pd.get_dummies(e, columns = ['Depth_Category'], drop_first = True)"
   ]
  },
  {
   "cell_type": "code",
   "execution_count": 5,
   "id": "66061b4c",
   "metadata": {},
   "outputs": [],
   "source": [
    "#Extracting the features and target variables\n",
    "features = ['Latitude', 'Longitude', 'Magnitude', 'Depth_Category_Moderate', 'Depth_Category_Deep']\n",
    "X = e[features]\n",
    "Y = e['Magnitude']"
   ]
  },
  {
   "cell_type": "code",
   "execution_count": 6,
   "id": "5a2f7c39",
   "metadata": {},
   "outputs": [
    {
     "data": {
      "text/html": [
       "<div>\n",
       "<style scoped>\n",
       "    .dataframe tbody tr th:only-of-type {\n",
       "        vertical-align: middle;\n",
       "    }\n",
       "\n",
       "    .dataframe tbody tr th {\n",
       "        vertical-align: top;\n",
       "    }\n",
       "\n",
       "    .dataframe thead th {\n",
       "        text-align: right;\n",
       "    }\n",
       "</style>\n",
       "<table border=\"1\" class=\"dataframe\">\n",
       "  <thead>\n",
       "    <tr style=\"text-align: right;\">\n",
       "      <th></th>\n",
       "      <th>Origin Time</th>\n",
       "      <th>Latitude</th>\n",
       "      <th>Longitude</th>\n",
       "      <th>Depth</th>\n",
       "      <th>Magnitude</th>\n",
       "      <th>Location</th>\n",
       "      <th>City</th>\n",
       "      <th>Depth_Category_Moderate</th>\n",
       "      <th>Depth_Category_Deep</th>\n",
       "    </tr>\n",
       "  </thead>\n",
       "  <tbody>\n",
       "    <tr>\n",
       "      <th>0</th>\n",
       "      <td>2021-07-31 09:43:23 IST</td>\n",
       "      <td>29.06</td>\n",
       "      <td>77.42</td>\n",
       "      <td>5.0</td>\n",
       "      <td>2.5</td>\n",
       "      <td>53km NNE of New Delhi, India</td>\n",
       "      <td>India</td>\n",
       "      <td>False</td>\n",
       "      <td>False</td>\n",
       "    </tr>\n",
       "    <tr>\n",
       "      <th>1</th>\n",
       "      <td>2021-07-30 23:04:57 IST</td>\n",
       "      <td>19.93</td>\n",
       "      <td>72.92</td>\n",
       "      <td>5.0</td>\n",
       "      <td>2.4</td>\n",
       "      <td>91km W of Nashik, Maharashtra, India</td>\n",
       "      <td>India</td>\n",
       "      <td>False</td>\n",
       "      <td>False</td>\n",
       "    </tr>\n",
       "    <tr>\n",
       "      <th>2</th>\n",
       "      <td>2021-07-30 21:31:10 IST</td>\n",
       "      <td>31.50</td>\n",
       "      <td>74.37</td>\n",
       "      <td>33.0</td>\n",
       "      <td>3.4</td>\n",
       "      <td>49km WSW of Amritsar, Punjab, India</td>\n",
       "      <td>India</td>\n",
       "      <td>False</td>\n",
       "      <td>False</td>\n",
       "    </tr>\n",
       "    <tr>\n",
       "      <th>3</th>\n",
       "      <td>2021-07-30 03:33:16 IST</td>\n",
       "      <td>27.90</td>\n",
       "      <td>94.20</td>\n",
       "      <td>10.0</td>\n",
       "      <td>3.0</td>\n",
       "      <td>48km W of Basar, Arunachal Pradesh, India</td>\n",
       "      <td>India</td>\n",
       "      <td>False</td>\n",
       "      <td>False</td>\n",
       "    </tr>\n",
       "    <tr>\n",
       "      <th>4</th>\n",
       "      <td>2021-07-29 18:47:30 IST</td>\n",
       "      <td>26.60</td>\n",
       "      <td>92.51</td>\n",
       "      <td>28.0</td>\n",
       "      <td>3.1</td>\n",
       "      <td>28km WSW of Tezpur, Assam, India</td>\n",
       "      <td>India</td>\n",
       "      <td>False</td>\n",
       "      <td>False</td>\n",
       "    </tr>\n",
       "    <tr>\n",
       "      <th>...</th>\n",
       "      <td>...</td>\n",
       "      <td>...</td>\n",
       "      <td>...</td>\n",
       "      <td>...</td>\n",
       "      <td>...</td>\n",
       "      <td>...</td>\n",
       "      <td>...</td>\n",
       "      <td>...</td>\n",
       "      <td>...</td>\n",
       "    </tr>\n",
       "    <tr>\n",
       "      <th>1605</th>\n",
       "      <td>2019-08-04 06:56:19 IST</td>\n",
       "      <td>12.30</td>\n",
       "      <td>94.80</td>\n",
       "      <td>10.0</td>\n",
       "      <td>4.8</td>\n",
       "      <td>224km ESE of Diglipur, Andaman and Nicobar isl...</td>\n",
       "      <td>India</td>\n",
       "      <td>False</td>\n",
       "      <td>False</td>\n",
       "    </tr>\n",
       "    <tr>\n",
       "      <th>1606</th>\n",
       "      <td>2019-08-04 05:40:33 IST</td>\n",
       "      <td>24.70</td>\n",
       "      <td>94.30</td>\n",
       "      <td>40.0</td>\n",
       "      <td>4.1</td>\n",
       "      <td>31km SW of Ukhrul, Manipur, India</td>\n",
       "      <td>India</td>\n",
       "      <td>False</td>\n",
       "      <td>False</td>\n",
       "    </tr>\n",
       "    <tr>\n",
       "      <th>1607</th>\n",
       "      <td>2019-08-03 16:29:37 IST</td>\n",
       "      <td>22.50</td>\n",
       "      <td>88.10</td>\n",
       "      <td>10.0</td>\n",
       "      <td>3.6</td>\n",
       "      <td>28km WSW of Kolkata, India</td>\n",
       "      <td>India</td>\n",
       "      <td>False</td>\n",
       "      <td>False</td>\n",
       "    </tr>\n",
       "    <tr>\n",
       "      <th>1608</th>\n",
       "      <td>2019-08-03 01:59:11 IST</td>\n",
       "      <td>24.60</td>\n",
       "      <td>94.20</td>\n",
       "      <td>54.0</td>\n",
       "      <td>3.5</td>\n",
       "      <td>35km SE of Imphal, Manipur, India</td>\n",
       "      <td>India</td>\n",
       "      <td>True</td>\n",
       "      <td>False</td>\n",
       "    </tr>\n",
       "    <tr>\n",
       "      <th>1609</th>\n",
       "      <td>2019-08-01 06:13:21 IST</td>\n",
       "      <td>14.50</td>\n",
       "      <td>92.90</td>\n",
       "      <td>10.0</td>\n",
       "      <td>4.6</td>\n",
       "      <td>137km N of Diglipur, Andaman and Nicobar islan...</td>\n",
       "      <td>India</td>\n",
       "      <td>False</td>\n",
       "      <td>False</td>\n",
       "    </tr>\n",
       "  </tbody>\n",
       "</table>\n",
       "<p>1610 rows × 9 columns</p>\n",
       "</div>"
      ],
      "text/plain": [
       "                  Origin Time  Latitude  Longitude  Depth  Magnitude  \\\n",
       "0     2021-07-31 09:43:23 IST     29.06      77.42    5.0        2.5   \n",
       "1     2021-07-30 23:04:57 IST     19.93      72.92    5.0        2.4   \n",
       "2     2021-07-30 21:31:10 IST     31.50      74.37   33.0        3.4   \n",
       "3     2021-07-30 03:33:16 IST     27.90      94.20   10.0        3.0   \n",
       "4     2021-07-29 18:47:30 IST     26.60      92.51   28.0        3.1   \n",
       "...                       ...       ...        ...    ...        ...   \n",
       "1605  2019-08-04 06:56:19 IST     12.30      94.80   10.0        4.8   \n",
       "1606  2019-08-04 05:40:33 IST     24.70      94.30   40.0        4.1   \n",
       "1607  2019-08-03 16:29:37 IST     22.50      88.10   10.0        3.6   \n",
       "1608  2019-08-03 01:59:11 IST     24.60      94.20   54.0        3.5   \n",
       "1609  2019-08-01 06:13:21 IST     14.50      92.90   10.0        4.6   \n",
       "\n",
       "                                               Location   City  \\\n",
       "0                          53km NNE of New Delhi, India  India   \n",
       "1                  91km W of Nashik, Maharashtra, India  India   \n",
       "2                   49km WSW of Amritsar, Punjab, India  India   \n",
       "3             48km W of Basar, Arunachal Pradesh, India  India   \n",
       "4                      28km WSW of Tezpur, Assam, India  India   \n",
       "...                                                 ...    ...   \n",
       "1605  224km ESE of Diglipur, Andaman and Nicobar isl...  India   \n",
       "1606                  31km SW of Ukhrul, Manipur, India  India   \n",
       "1607                         28km WSW of Kolkata, India  India   \n",
       "1608                  35km SE of Imphal, Manipur, India  India   \n",
       "1609  137km N of Diglipur, Andaman and Nicobar islan...  India   \n",
       "\n",
       "      Depth_Category_Moderate  Depth_Category_Deep  \n",
       "0                       False                False  \n",
       "1                       False                False  \n",
       "2                       False                False  \n",
       "3                       False                False  \n",
       "4                       False                False  \n",
       "...                       ...                  ...  \n",
       "1605                    False                False  \n",
       "1606                    False                False  \n",
       "1607                    False                False  \n",
       "1608                     True                False  \n",
       "1609                    False                False  \n",
       "\n",
       "[1610 rows x 9 columns]"
      ]
     },
     "execution_count": 6,
     "metadata": {},
     "output_type": "execute_result"
    }
   ],
   "source": [
    "e"
   ]
  },
  {
   "cell_type": "code",
   "execution_count": 7,
   "id": "6c1cf470",
   "metadata": {},
   "outputs": [],
   "source": [
    "#splitting the data into training and testing sets\n",
    "X_train, X_test, Y_train, Y_test = train_test_split(X, Y, test_size = 0.4, random_state = 40)"
   ]
  },
  {
   "cell_type": "code",
   "execution_count": 8,
   "id": "1d06ac21",
   "metadata": {},
   "outputs": [],
   "source": [
    "#Standardizing the features\n",
    "sc = StandardScaler()\n",
    "X_train_scl = sc.fit_transform(X_train)\n",
    "X_test_scl = sc.transform(X_test)"
   ]
  },
  {
   "cell_type": "code",
   "execution_count": 9,
   "id": "a5609dc1",
   "metadata": {},
   "outputs": [
    {
     "data": {
      "text/html": [
       "<style>#sk-container-id-1 {color: black;}#sk-container-id-1 pre{padding: 0;}#sk-container-id-1 div.sk-toggleable {background-color: white;}#sk-container-id-1 label.sk-toggleable__label {cursor: pointer;display: block;width: 100%;margin-bottom: 0;padding: 0.3em;box-sizing: border-box;text-align: center;}#sk-container-id-1 label.sk-toggleable__label-arrow:before {content: \"▸\";float: left;margin-right: 0.25em;color: #696969;}#sk-container-id-1 label.sk-toggleable__label-arrow:hover:before {color: black;}#sk-container-id-1 div.sk-estimator:hover label.sk-toggleable__label-arrow:before {color: black;}#sk-container-id-1 div.sk-toggleable__content {max-height: 0;max-width: 0;overflow: hidden;text-align: left;background-color: #f0f8ff;}#sk-container-id-1 div.sk-toggleable__content pre {margin: 0.2em;color: black;border-radius: 0.25em;background-color: #f0f8ff;}#sk-container-id-1 input.sk-toggleable__control:checked~div.sk-toggleable__content {max-height: 200px;max-width: 100%;overflow: auto;}#sk-container-id-1 input.sk-toggleable__control:checked~label.sk-toggleable__label-arrow:before {content: \"▾\";}#sk-container-id-1 div.sk-estimator input.sk-toggleable__control:checked~label.sk-toggleable__label {background-color: #d4ebff;}#sk-container-id-1 div.sk-label input.sk-toggleable__control:checked~label.sk-toggleable__label {background-color: #d4ebff;}#sk-container-id-1 input.sk-hidden--visually {border: 0;clip: rect(1px 1px 1px 1px);clip: rect(1px, 1px, 1px, 1px);height: 1px;margin: -1px;overflow: hidden;padding: 0;position: absolute;width: 1px;}#sk-container-id-1 div.sk-estimator {font-family: monospace;background-color: #f0f8ff;border: 1px dotted black;border-radius: 0.25em;box-sizing: border-box;margin-bottom: 0.5em;}#sk-container-id-1 div.sk-estimator:hover {background-color: #d4ebff;}#sk-container-id-1 div.sk-parallel-item::after {content: \"\";width: 100%;border-bottom: 1px solid gray;flex-grow: 1;}#sk-container-id-1 div.sk-label:hover label.sk-toggleable__label {background-color: #d4ebff;}#sk-container-id-1 div.sk-serial::before {content: \"\";position: absolute;border-left: 1px solid gray;box-sizing: border-box;top: 0;bottom: 0;left: 50%;z-index: 0;}#sk-container-id-1 div.sk-serial {display: flex;flex-direction: column;align-items: center;background-color: white;padding-right: 0.2em;padding-left: 0.2em;position: relative;}#sk-container-id-1 div.sk-item {position: relative;z-index: 1;}#sk-container-id-1 div.sk-parallel {display: flex;align-items: stretch;justify-content: center;background-color: white;position: relative;}#sk-container-id-1 div.sk-item::before, #sk-container-id-1 div.sk-parallel-item::before {content: \"\";position: absolute;border-left: 1px solid gray;box-sizing: border-box;top: 0;bottom: 0;left: 50%;z-index: -1;}#sk-container-id-1 div.sk-parallel-item {display: flex;flex-direction: column;z-index: 1;position: relative;background-color: white;}#sk-container-id-1 div.sk-parallel-item:first-child::after {align-self: flex-end;width: 50%;}#sk-container-id-1 div.sk-parallel-item:last-child::after {align-self: flex-start;width: 50%;}#sk-container-id-1 div.sk-parallel-item:only-child::after {width: 0;}#sk-container-id-1 div.sk-dashed-wrapped {border: 1px dashed gray;margin: 0 0.4em 0.5em 0.4em;box-sizing: border-box;padding-bottom: 0.4em;background-color: white;}#sk-container-id-1 div.sk-label label {font-family: monospace;font-weight: bold;display: inline-block;line-height: 1.2em;}#sk-container-id-1 div.sk-label-container {text-align: center;}#sk-container-id-1 div.sk-container {/* jupyter's `normalize.less` sets `[hidden] { display: none; }` but bootstrap.min.css set `[hidden] { display: none !important; }` so we also need the `!important` here to be able to override the default hidden behavior on the sphinx rendered scikit-learn.org. See: https://github.com/scikit-learn/scikit-learn/issues/21755 */display: inline-block !important;position: relative;}#sk-container-id-1 div.sk-text-repr-fallback {display: none;}</style><div id=\"sk-container-id-1\" class=\"sk-top-container\"><div class=\"sk-text-repr-fallback\"><pre>RandomForestRegressor(random_state=40)</pre><b>In a Jupyter environment, please rerun this cell to show the HTML representation or trust the notebook. <br />On GitHub, the HTML representation is unable to render, please try loading this page with nbviewer.org.</b></div><div class=\"sk-container\" hidden><div class=\"sk-item\"><div class=\"sk-estimator sk-toggleable\"><input class=\"sk-toggleable__control sk-hidden--visually\" id=\"sk-estimator-id-1\" type=\"checkbox\" checked><label for=\"sk-estimator-id-1\" class=\"sk-toggleable__label sk-toggleable__label-arrow\">RandomForestRegressor</label><div class=\"sk-toggleable__content\"><pre>RandomForestRegressor(random_state=40)</pre></div></div></div></div></div>"
      ],
      "text/plain": [
       "RandomForestRegressor(random_state=40)"
      ]
     },
     "execution_count": 9,
     "metadata": {},
     "output_type": "execute_result"
    }
   ],
   "source": [
    "#Training a Random Forest Regression Model for the purpose of comparison\n",
    "rfr = RandomForestRegressor(random_state = 40)\n",
    "rfr.fit(X_train_scl, Y_train)"
   ]
  },
  {
   "cell_type": "code",
   "execution_count": 10,
   "id": "3134cc57",
   "metadata": {},
   "outputs": [],
   "source": [
    "#Making predictions on the testing set\n",
    "Y_pred_rfr = rfr.predict(X_test_scl)"
   ]
  },
  {
   "cell_type": "code",
   "execution_count": 11,
   "id": "d04708a0",
   "metadata": {},
   "outputs": [],
   "source": [
    "#Evaluating the model on the basis of mean-squared error\n",
    "mse_rfr = mean_squared_error(Y_test, Y_pred_rfr)"
   ]
  },
  {
   "cell_type": "code",
   "execution_count": 12,
   "id": "ab9568b0",
   "metadata": {},
   "outputs": [
    {
     "name": "stdout",
     "output_type": "stream",
     "text": [
      "Random Forest Mean Squared Error:  0.0019287111801241839\n"
     ]
    }
   ],
   "source": [
    "print(\"Random Forest Mean Squared Error: \", mse_rfr)"
   ]
  },
  {
   "cell_type": "code",
   "execution_count": 13,
   "id": "edc0ba00",
   "metadata": {},
   "outputs": [],
   "source": [
    "#Evaluating the model on the basis of R-squared\n",
    "r2_rfr = r2_score(Y_test, Y_pred_rfr)"
   ]
  },
  {
   "cell_type": "code",
   "execution_count": 14,
   "id": "0561d30c",
   "metadata": {},
   "outputs": [
    {
     "name": "stdout",
     "output_type": "stream",
     "text": [
      "Random Forest R^2 Score:  0.9970770119574498\n"
     ]
    }
   ],
   "source": [
    "print(\"Random Forest R^2 Score: \", r2_rfr)"
   ]
  },
  {
   "cell_type": "code",
   "execution_count": 15,
   "id": "c026219f",
   "metadata": {},
   "outputs": [],
   "source": [
    "#Evaluating the model on the basis of mean absolute error\n",
    "mae_rfr = mean_absolute_error(Y_test, Y_pred_rfr)"
   ]
  },
  {
   "cell_type": "code",
   "execution_count": 16,
   "id": "4c776d77",
   "metadata": {},
   "outputs": [
    {
     "name": "stdout",
     "output_type": "stream",
     "text": [
      "Random Forest Mean Absolute Error:  0.0031397515527988367\n"
     ]
    }
   ],
   "source": [
    "print(\"Random Forest Mean Absolute Error: \", mae_rfr)"
   ]
  },
  {
   "cell_type": "code",
   "execution_count": 19,
   "id": "a6d0c5b5",
   "metadata": {
    "scrolled": true
   },
   "outputs": [
    {
     "data": {
      "image/png": "[encoded data removed]",
      "text/plain": [
       "<Figure size 1000x300 with 1 Axes>"
      ]
     },
     "metadata": {},
     "output_type": "display_data"
    }
   ],
   "source": [
    "#plotting the actual vs the predicted result for Random Forest\n",
    "plt.figure(figsize = (10, 3))\n",
    "plt.scatter(Y_test, Y_pred_rfr, color = 'green', alpha = 0.5, label = 'Random Forest')\n",
    "plt.plot([min(Y_test), max(Y_test)], [min(Y_test), max(Y_test)], color = 'red')\n",
    "plt.title('Actual vs Predicted Magnitudes (Random Forest)')\n",
    "plt.xlabel('Actual Magnitude')\n",
    "plt.ylabel('Predicted Magnitude')\n",
    "plt.legend()\n",
    "plt.grid(True)\n",
    "plt.show()"
   ]
  },
  {
   "cell_type": "code",
   "execution_count": null,
   "id": "74ccd798",
   "metadata": {},
   "outputs": [],
   "source": []
  }
 ],
 "metadata": {
  "kernelspec": {
   "display_name": "Python 3 (ipykernel)",
   "language": "python",
   "name": "python3"
  },
  "language_info": {
   "codemirror_mode": {
    "name": "ipython",
    "version": 3
   },
   "file_extension": ".py",
   "mimetype": "text/x-python",
   "name": "python",
   "nbconvert_exporter": "python",
   "pygments_lexer": "ipython3",
   "version": "3.11.5"
  }
 },
 "nbformat": 4,
 "nbformat_minor": 5
}
